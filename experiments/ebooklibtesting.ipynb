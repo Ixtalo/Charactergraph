{
 "cells": [
  {
   "cell_type": "code",
   "execution_count": 29,
   "metadata": {},
   "outputs": [],
   "source": [
    "import ebooklib\n",
    "from ebooklib import epub\n",
    "from bs4 import BeautifulSoup"
   ]
  },
  {
   "cell_type": "code",
   "execution_count": 3,
   "metadata": {},
   "outputs": [],
   "source": [
    "book = epub.read_epub('Dreaming Void, The - Peter F. Hamilton.epub')"
   ]
  },
  {
   "cell_type": "code",
   "execution_count": 5,
   "metadata": {
    "scrolled": true
   },
   "outputs": [
    {
     "data": {
      "text/plain": [
       "{'EPUB_VERSION': None,\n",
       " 'metadata': {'http://calibre.kovidgoyal.net/2009/metadata': {'series': [(None,\n",
       "     {'content': 'Void Trilogy', 'name': 'calibre:series'})],\n",
       "   'title_sort': [(None,\n",
       "     {'content': 'Dreaming Void, The', 'name': 'calibre:title_sort'})],\n",
       "   'timestamp': [(None,\n",
       "     {'content': '2011-07-21T06:04:29+00:00', 'name': 'calibre:timestamp'})],\n",
       "   'series_index': [(None,\n",
       "     {'content': '1.0', 'name': 'calibre:series_index'})],\n",
       "   'author_link_map': [(None,\n",
       "     {'name': 'calibre:author_link_map',\n",
       "      'content': '{\"Peter F. Hamilton\": \"\"}'})],\n",
       "   'rating': [(None, {'name': 'calibre:rating', 'content': '10.0'})],\n",
       "   'user_categories': [(None,\n",
       "     {'name': 'calibre:user_categories',\n",
       "      'content': '{\"Informatik\": [], \"Fachbuch\": []}'})],\n",
       "   'user_metadata:#pagecount': [(None,\n",
       "     {'name': 'calibre:user_metadata:#pagecount',\n",
       "      'content': '{\"table\": \"custom_column_1\", \"column\": \"value\", \"datatype\": \"int\", \"is_multiple\": null, \"kind\": \"field\", \"name\": \"PageCount\", \"search_terms\": [\"#pagecount\"], \"label\": \"pagecount\", \"colnum\": 1, \"display\": {\"number_format\": null}, \"is_custom\": true, \"is_category\": false, \"link_column\": \"value\", \"category_sort\": \"value\", \"is_csp\": false, \"is_editable\": true, \"rec_index\": 22, \"#value#\": null, \"#extra#\": null, \"is_multiple2\": {}}'})]},\n",
       "  'http://purl.org/dc/elements/1.1/': {'title': [('The Dreaming Void', {})],\n",
       "   'creator': [('Peter F. Hamilton',\n",
       "     {'{http://www.idpf.org/2007/opf}role': 'aut',\n",
       "      '{http://www.idpf.org/2007/opf}file-as': 'Hamilton, Peter F.'})],\n",
       "   'identifier': [('ece654ff-ce36-45d8-9f80-3534d52ad3f0',\n",
       "     {'id': 'uuid_id', '{http://www.idpf.org/2007/opf}scheme': 'uuid'}),\n",
       "    ('e0eac316-fd20-48f0-a516-c49c3f19ceff',\n",
       "     {'{http://www.idpf.org/2007/opf}scheme': 'calibre'})],\n",
       "   'description': [(\"<div>At the center of the Intersolar Commonwealth universe is a massive black\\n hole. Inside there is a strange universe where the laws of physics are \\nvery different from those we know. It is slowly consuming the other \\nstars of the galactic core - one day it will have devoured the entire \\ngalaxy.<br>\\n<br>\\nIt's AD 4000, and a human has started to dream of the wonderful \\nexistence of the Void. He has a following of millions of believers, who \\nnow wish to pilgrimage to the Void to live the life they have been \\nshown. Other starfaring species fear their migration will cause the Void\\n to expand again. They are prepared to stop the pilgrimage fleet, no \\nmatter what the cost.\\n\\n</div>\",\n",
       "     {})],\n",
       "   'contributor': [('calibre (5.6.0) [https://calibre-ebook.com]',\n",
       "     {'{http://www.idpf.org/2007/opf}role': 'bkp'})],\n",
       "   'date': [('2020-12-05T23:00:00+00:00', {})],\n",
       "   'subject': [('Science Fiction', {})],\n",
       "   'language': [('en', {})]},\n",
       "  'http://purl.org/dc/terms/': {},\n",
       "  'http://www.idpf.org/2007/opf': {'cover': [(None,\n",
       "     {'name': 'cover', 'content': 'Dreaming_Void_FC.jpg'})],\n",
       "   'Sigil version': [(None, {'content': '0.8.4', 'name': 'Sigil version'})]},\n",
       "  'http://www.w3.org/2001/XMLSchema-instance': {}},\n",
       " 'items': [<ebooklib.epub.EpubHtml at 0x7f0794077f10>,\n",
       "  <ebooklib.epub.EpubHtml at 0x7f0794085c70>,\n",
       "  <ebooklib.epub.EpubHtml at 0x7f079403c820>,\n",
       "  <ebooklib.epub.EpubHtml at 0x7f07940e8c70>,\n",
       "  <ebooklib.epub.EpubHtml at 0x7f07940e8df0>,\n",
       "  <ebooklib.epub.EpubHtml at 0x7f07940e8d30>,\n",
       "  <ebooklib.epub.EpubHtml at 0x7f0785754880>,\n",
       "  <ebooklib.epub.EpubHtml at 0x7f07940854f0>,\n",
       "  <ebooklib.epub.EpubHtml at 0x7f07857726d0>,\n",
       "  <ebooklib.epub.EpubHtml at 0x7f0785772490>,\n",
       "  <ebooklib.epub.EpubHtml at 0x7f07857727c0>,\n",
       "  <ebooklib.epub.EpubHtml at 0x7f07857727f0>,\n",
       "  <ebooklib.epub.EpubHtml at 0x7f0785772850>,\n",
       "  <ebooklib.epub.EpubHtml at 0x7f0785772880>,\n",
       "  <ebooklib.epub.EpubHtml at 0x7f07857728b0>,\n",
       "  <ebooklib.epub.EpubHtml at 0x7f0785772910>,\n",
       "  <ebooklib.epub.EpubHtml at 0x7f07857728e0>,\n",
       "  <ebooklib.epub.EpubHtml at 0x7f0785772970>,\n",
       "  <ebooklib.epub.EpubHtml at 0x7f07857729d0>,\n",
       "  <ebooklib.epub.EpubHtml at 0x7f07857729a0>,\n",
       "  <ebooklib.epub.EpubHtml at 0x7f0785772a30>,\n",
       "  <ebooklib.epub.EpubItem at 0x7f0785772a90>,\n",
       "  <ebooklib.epub.EpubItem at 0x7f0785772820>,\n",
       "  <ebooklib.epub.EpubItem at 0x7f0785772790>,\n",
       "  <ebooklib.epub.EpubImage at 0x7f0785772b20>,\n",
       "  <ebooklib.epub.EpubImage at 0x7f0785772b50>,\n",
       "  <ebooklib.epub.EpubImage at 0x7f0785772b80>],\n",
       " 'spine': [('titlepage', 'yes'),\n",
       "  ('id121', 'yes'),\n",
       "  ('id120', 'yes'),\n",
       "  ('id117', 'yes'),\n",
       "  ('id116', 'yes'),\n",
       "  ('id115', 'yes'),\n",
       "  ('id114', 'yes'),\n",
       "  ('id113', 'yes'),\n",
       "  ('id112', 'yes'),\n",
       "  ('id111', 'yes'),\n",
       "  ('id110', 'yes'),\n",
       "  ('id19', 'yes'),\n",
       "  ('id18', 'yes'),\n",
       "  ('id17', 'yes'),\n",
       "  ('id16', 'yes'),\n",
       "  ('id15', 'yes'),\n",
       "  ('id14', 'yes'),\n",
       "  ('id13', 'yes'),\n",
       "  ('id12', 'yes'),\n",
       "  ('id124', 'yes'),\n",
       "  ('id123', 'yes')],\n",
       " 'guide': [{'href': 'Text/titlepage.xhtml', 'title': 'Cover', 'type': 'cover'},\n",
       "  {'href': 'Text/The_Dreaming_Void_split_004.html#filepos3644',\n",
       "   'title': 'Copyright page',\n",
       "   'type': 'copyright-page'}],\n",
       " 'pages': [],\n",
       " 'toc': [<ebooklib.epub.Link at 0x7f0785772a60>,\n",
       "  <ebooklib.epub.Link at 0x7f07857726a0>,\n",
       "  <ebooklib.epub.Link at 0x7f0785772c40>,\n",
       "  <ebooklib.epub.Link at 0x7f0785772c70>,\n",
       "  <ebooklib.epub.Link at 0x7f0785772cd0>,\n",
       "  <ebooklib.epub.Link at 0x7f0785772d00>,\n",
       "  <ebooklib.epub.Link at 0x7f0785772d60>,\n",
       "  <ebooklib.epub.Link at 0x7f0785772af0>,\n",
       "  <ebooklib.epub.Link at 0x7f0785772dc0>,\n",
       "  <ebooklib.epub.Link at 0x7f0785772e20>,\n",
       "  <ebooklib.epub.Link at 0x7f0785772e80>,\n",
       "  <ebooklib.epub.Link at 0x7f0785772ee0>,\n",
       "  <ebooklib.epub.Link at 0x7f0785772f40>,\n",
       "  <ebooklib.epub.Link at 0x7f0785772fa0>,\n",
       "  <ebooklib.epub.Link at 0x7f0785780040>],\n",
       " 'bindings': [],\n",
       " 'IDENTIFIER_ID': 'uuid_id',\n",
       " 'FOLDER_NAME': 'EPUB',\n",
       " '_id_html': 0,\n",
       " '_id_image': 0,\n",
       " '_id_static': 0,\n",
       " 'title': 'The Dreaming Void',\n",
       " 'language': 'en',\n",
       " 'direction': None,\n",
       " 'templates': {'ncx': b'<!DOCTYPE ncx PUBLIC \"-//NISO//DTD ncx 2005-1//EN\" \"http://www.daisy.org/z3986/2005/ncx-2005-1.dtd\">\\n<ncx xmlns=\"http://www.daisy.org/z3986/2005/ncx/\" version=\"2005-1\" />',\n",
       "  'nav': b'<?xml version=\"1.0\" encoding=\"utf-8\"?><!DOCTYPE html><html xmlns=\"http://www.w3.org/1999/xhtml\" xmlns:epub=\"http://www.idpf.org/2007/ops\"/>',\n",
       "  'chapter': b'<?xml version=\"1.0\" encoding=\"UTF-8\"?><!DOCTYPE html><html xmlns=\"http://www.w3.org/1999/xhtml\" xmlns:epub=\"http://www.idpf.org/2007/ops\"  epub:prefix=\"z3998: http://www.daisy.org/z3998/2012/vocab/structure/#\"></html>',\n",
       "  'cover': b'<?xml version=\"1.0\" encoding=\"UTF-8\"?>\\n<!DOCTYPE html>\\n<html xmlns=\"http://www.w3.org/1999/xhtml\" xmlns:epub=\"http://www.idpf.org/2007/ops\" lang=\"en\" xml:lang=\"en\">\\n <head>\\n  <style>\\n    body { margin: 0em; padding: 0em; }\\n    img { max-width: 100%; max-height: 100%; }\\n  </style>\\n </head>\\n <body>\\n   <img src=\"\" alt=\"\" />\\n </body>\\n</html>'},\n",
       " 'uid': 'ece654ff-ce36-45d8-9f80-3534d52ad3f0',\n",
       " 'prefixes': [],\n",
       " 'namespaces': {},\n",
       " 'version': '2.0'}"
      ]
     },
     "execution_count": 5,
     "metadata": {},
     "output_type": "execute_result"
    }
   ],
   "source": [
    "book.__dict__"
   ]
  },
  {
   "cell_type": "code",
   "execution_count": 9,
   "metadata": {
    "scrolled": true
   },
   "outputs": [
    {
     "data": {
      "text/plain": [
       "['EPUB_VERSION',\n",
       " 'FOLDER_NAME',\n",
       " 'IDENTIFIER_ID',\n",
       " '__class__',\n",
       " '__delattr__',\n",
       " '__dict__',\n",
       " '__dir__',\n",
       " '__doc__',\n",
       " '__eq__',\n",
       " '__format__',\n",
       " '__ge__',\n",
       " '__getattribute__',\n",
       " '__gt__',\n",
       " '__hash__',\n",
       " '__init__',\n",
       " '__init_subclass__',\n",
       " '__le__',\n",
       " '__lt__',\n",
       " '__module__',\n",
       " '__ne__',\n",
       " '__new__',\n",
       " '__reduce__',\n",
       " '__reduce_ex__',\n",
       " '__repr__',\n",
       " '__setattr__',\n",
       " '__sizeof__',\n",
       " '__str__',\n",
       " '__subclasshook__',\n",
       " '__weakref__',\n",
       " '_id_html',\n",
       " '_id_image',\n",
       " '_id_static',\n",
       " 'add_author',\n",
       " 'add_item',\n",
       " 'add_metadata',\n",
       " 'add_prefix',\n",
       " 'bindings',\n",
       " 'direction',\n",
       " 'get_item_with_href',\n",
       " 'get_item_with_id',\n",
       " 'get_items',\n",
       " 'get_items_of_media_type',\n",
       " 'get_items_of_type',\n",
       " 'get_metadata',\n",
       " 'get_template',\n",
       " 'guide',\n",
       " 'items',\n",
       " 'language',\n",
       " 'metadata',\n",
       " 'namespaces',\n",
       " 'pages',\n",
       " 'prefixes',\n",
       " 'reset',\n",
       " 'set_cover',\n",
       " 'set_direction',\n",
       " 'set_identifier',\n",
       " 'set_language',\n",
       " 'set_template',\n",
       " 'set_title',\n",
       " 'set_unique_metadata',\n",
       " 'spine',\n",
       " 'templates',\n",
       " 'title',\n",
       " 'toc',\n",
       " 'uid',\n",
       " 'version']"
      ]
     },
     "execution_count": 9,
     "metadata": {},
     "output_type": "execute_result"
    }
   ],
   "source": [
    "dir(book)"
   ]
  },
  {
   "cell_type": "code",
   "execution_count": 13,
   "metadata": {},
   "outputs": [
    {
     "data": {
      "text/plain": [
       "{}"
      ]
     },
     "execution_count": 13,
     "metadata": {},
     "output_type": "execute_result"
    }
   ],
   "source": [
    "book.namespaces"
   ]
  },
  {
   "cell_type": "code",
   "execution_count": 10,
   "metadata": {},
   "outputs": [
    {
     "data": {
      "text/plain": [
       "[]"
      ]
     },
     "execution_count": 10,
     "metadata": {},
     "output_type": "execute_result"
    }
   ],
   "source": [
    "book.pages"
   ]
  },
  {
   "cell_type": "code",
   "execution_count": 11,
   "metadata": {},
   "outputs": [
    {
     "name": "stdout",
     "output_type": "stream",
     "text": [
      "<EpubItem:ncx>\n"
     ]
    }
   ],
   "source": [
    "for image in book.get_items_of_type(ebooklib.ITEM_NAVIGATION):\n",
    "    print(image)"
   ]
  },
  {
   "cell_type": "code",
   "execution_count": 12,
   "metadata": {},
   "outputs": [
    {
     "name": "stdout",
     "output_type": "stream",
     "text": [
      "<EpubHtml:titlepage:Text/titlepage.xhtml>\n",
      "<EpubHtml:id121:Text/The_Dreaming_Void_split_003.html>\n",
      "<EpubHtml:id120:Text/The_Dreaming_Void_split_004.html>\n",
      "<EpubHtml:id117:Text/The_Dreaming_Void_split_007.html>\n",
      "<EpubHtml:id116:Text/The_Dreaming_Void_split_008.html>\n",
      "<EpubHtml:id115:Text/The_Dreaming_Void_split_009.html>\n",
      "<EpubHtml:id114:Text/The_Dreaming_Void_split_010.html>\n",
      "<EpubHtml:id113:Text/The_Dreaming_Void_split_011.html>\n",
      "<EpubHtml:id112:Text/The_Dreaming_Void_split_012.html>\n",
      "<EpubHtml:id111:Text/The_Dreaming_Void_split_013.html>\n",
      "<EpubHtml:id110:Text/The_Dreaming_Void_split_014.html>\n",
      "<EpubHtml:id19:Text/The_Dreaming_Void_split_015.html>\n",
      "<EpubHtml:id18:Text/The_Dreaming_Void_split_016.html>\n",
      "<EpubHtml:id17:Text/The_Dreaming_Void_split_017.html>\n",
      "<EpubHtml:id16:Text/The_Dreaming_Void_split_018.html>\n",
      "<EpubHtml:id15:Text/The_Dreaming_Void_split_019.html>\n",
      "<EpubHtml:id14:Text/The_Dreaming_Void_split_020.html>\n",
      "<EpubHtml:id13:Text/The_Dreaming_Void_split_021.html>\n",
      "<EpubHtml:id12:Text/The_Dreaming_Void_split_022.html>\n",
      "<EpubHtml:id124:Text/The_Dreaming_Void_split_000.html>\n",
      "<EpubHtml:id123:Text/The_Dreaming_Void_split_001.html>\n"
     ]
    }
   ],
   "source": [
    "for image in book.get_items_of_type(ebooklib.ITEM_DOCUMENT):\n",
    "    print(image)"
   ]
  },
  {
   "cell_type": "code",
   "execution_count": 20,
   "metadata": {},
   "outputs": [],
   "source": [
    "item = book.get_item_with_id('id121')"
   ]
  },
  {
   "cell_type": "code",
   "execution_count": 22,
   "metadata": {},
   "outputs": [
    {
     "data": {
      "text/plain": [
       "{'id': 'id121',\n",
       " 'file_name': 'Text/The_Dreaming_Void_split_003.html',\n",
       " 'media_type': 'application/xhtml+xml',\n",
       " 'content': b'<?xml version=\"1.0\" encoding=\"UTF-8\" standalone=\"no\" ?><html xmlns=\"http://www.w3.org/1999/xhtml\">\\r\\n  <head>\\r\\n    <title>The Dreaming Void</title>\\r\\n    <meta content=\"text/html; charset=utf-8\" http-equiv=\"Content-Type\"/>\\r\\n  <link href=\"../Styles/stylesheet.css\" rel=\"stylesheet\" type=\"text/css\"/>\\r\\n<link href=\"../Styles/page_styles.css\" rel=\"stylesheet\" type=\"text/css\"/>\\r\\n</head>\\r\\n  <body class=\"calibre\">\\r\\n<h1 class=\"calibre12\" id=\"calibre_pb_2\"><span class=\"calibre13\"><span class=\"bold1\">THE DREAMING VOID</span></span></h1><div class=\"calibre14\"> </div>\\r\\n<p class=\"calibre15\"><span class=\"bold\">PART ONE OF THE VOID TRILOGY</span></p>\\r\\n<p class=\"calibre16\">PAN BOOKS</p>\\r\\n<div class=\"mbppagebreak\" id=\"calibre_pb_3\"/></body></html>',\n",
       " 'is_linear': True,\n",
       " 'manifest': True,\n",
       " 'book': <ebooklib.epub.EpubBook at 0x7f0785772670>,\n",
       " 'title': '',\n",
       " 'lang': None,\n",
       " 'direction': None,\n",
       " 'media_overlay': None,\n",
       " 'media_duration': None,\n",
       " 'links': [],\n",
       " 'properties': [],\n",
       " 'pages': []}"
      ]
     },
     "execution_count": 22,
     "metadata": {},
     "output_type": "execute_result"
    }
   ],
   "source": [
    "item.__dict__"
   ]
  },
  {
   "cell_type": "code",
   "execution_count": 23,
   "metadata": {
    "scrolled": true
   },
   "outputs": [
    {
     "data": {
      "text/plain": [
       "['__class__',\n",
       " '__delattr__',\n",
       " '__dict__',\n",
       " '__dir__',\n",
       " '__doc__',\n",
       " '__eq__',\n",
       " '__format__',\n",
       " '__ge__',\n",
       " '__getattribute__',\n",
       " '__gt__',\n",
       " '__hash__',\n",
       " '__init__',\n",
       " '__init_subclass__',\n",
       " '__le__',\n",
       " '__lt__',\n",
       " '__module__',\n",
       " '__ne__',\n",
       " '__new__',\n",
       " '__reduce__',\n",
       " '__reduce_ex__',\n",
       " '__repr__',\n",
       " '__setattr__',\n",
       " '__sizeof__',\n",
       " '__str__',\n",
       " '__subclasshook__',\n",
       " '__weakref__',\n",
       " '_template_name',\n",
       " 'add_item',\n",
       " 'add_link',\n",
       " 'book',\n",
       " 'content',\n",
       " 'direction',\n",
       " 'file_name',\n",
       " 'get_body_content',\n",
       " 'get_content',\n",
       " 'get_id',\n",
       " 'get_language',\n",
       " 'get_links',\n",
       " 'get_links_of_type',\n",
       " 'get_name',\n",
       " 'get_type',\n",
       " 'id',\n",
       " 'is_chapter',\n",
       " 'is_linear',\n",
       " 'lang',\n",
       " 'links',\n",
       " 'manifest',\n",
       " 'media_duration',\n",
       " 'media_overlay',\n",
       " 'media_type',\n",
       " 'pages',\n",
       " 'properties',\n",
       " 'set_content',\n",
       " 'set_language',\n",
       " 'title']"
      ]
     },
     "execution_count": 23,
     "metadata": {},
     "output_type": "execute_result"
    }
   ],
   "source": [
    "dir(item)"
   ]
  },
  {
   "cell_type": "code",
   "execution_count": 49,
   "metadata": {},
   "outputs": [],
   "source": [
    "item = book.get_item_with_id('id19')"
   ]
  },
  {
   "cell_type": "code",
   "execution_count": 50,
   "metadata": {},
   "outputs": [],
   "source": [
    "bs = BeautifulSoup(item.content)"
   ]
  },
  {
   "cell_type": "code",
   "execution_count": 54,
   "metadata": {},
   "outputs": [
    {
     "data": {
      "text/plain": [
       "['\\n',\n",
       " '\\n',\n",
       " 'The Dreaming Void',\n",
       " '\\n',\n",
       " '\\n',\n",
       " '\\n',\n",
       " '\\n',\n",
       " '\\n',\n",
       " '\\n',\n",
       " 'Inigo’s fourth dream',\n",
       " ' ',\n",
       " '\\n',\n",
       " 'After breaking camp just after dawn the caravan was on the road for three hours before it finally topped the last ridge and the coastal plain tipped into view. Edeard smiled down on it with an adrenaline burst of enthusiasm. With nearly a year spent travelling he was finally looking at his future. Riding on the ge-horse beside him, Salrana squealed happily and clapped her hands together. Several pigs in the back of O’lrany’s cart grunted at the sudden noise.',\n",
       " '\\n',\n",
       " 'Edeard ordered his ge-horse to stop. The caravan pushed on inexorably, wagon after wagon rolling down the stony road. Directly ahead of him the foothills of the Donsori Mountains fell away sharply to the awesome Iguru Plain below. It stretched away for mile after long mile. A flat expanse of rich farmland, almost all of which was under cultivation; its surface marked out in huge regular fields filled with verdant crops. A massive grid of ditches fed into wide, shallow rivers delineated by protective earthen embankments. Forests tended to sprawl around the lower slopes of the odd little volcanic cones which broke the plain’s uniformity. As far as he could see there was no pattern to the steep knolls. They were dotted purely at random.']"
      ]
     },
     "execution_count": 54,
     "metadata": {},
     "output_type": "execute_result"
    }
   ],
   "source": [
    "list(bs.strings)[:15]"
   ]
  },
  {
   "cell_type": "code",
   "execution_count": 56,
   "metadata": {},
   "outputs": [
    {
     "name": "stdout",
     "output_type": "stream",
     "text": [
      "\n",
      " 17\n",
      "THE DREAMING VOID 83\n",
      "  1481\n",
      "Prologue 15489\n",
      "1 116950\n",
      "Inigo’s first dream 43939\n",
      "2 81946\n",
      "Inigo’s second dream 45713\n",
      "3 127819\n",
      "Inigo’s third dream 76802\n",
      "4 117277\n",
      "Inigo’s fourth dream 72819\n",
      "5 111544\n",
      "Inigo’s fifth dream 68135\n",
      "6 158581\n",
      "Inigo’s sixth dream 81781\n",
      "7 73809\n",
      "Inigo’s seventh dream 35259\n",
      "Timeline 4969\n",
      "\n",
      " 866\n",
      "Also by Peter F. Hamilton 410\n"
     ]
    }
   ],
   "source": [
    "for item in book.get_items_of_type(ebooklib.ITEM_DOCUMENT):\n",
    "    bs = BeautifulSoup(item.content)\n",
    "    chapter_name = list(bs.strings)[9]\n",
    "    print(chapter_name, len(bs.text))"
   ]
  }
 ],
 "metadata": {
  "kernelspec": {
   "display_name": "Python 3",
   "language": "python",
   "name": "python3"
  },
  "language_info": {
   "codemirror_mode": {
    "name": "ipython",
    "version": 3
   },
   "file_extension": ".py",
   "mimetype": "text/x-python",
   "name": "python",
   "nbconvert_exporter": "python",
   "pygments_lexer": "ipython3",
   "version": "3.8.5"
  }
 },
 "nbformat": 4,
 "nbformat_minor": 4
}
