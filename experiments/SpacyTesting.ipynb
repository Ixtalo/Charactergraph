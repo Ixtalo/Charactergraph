{
 "cells": [
  {
   "cell_type": "code",
   "execution_count": 91,
   "metadata": {},
   "outputs": [],
   "source": [
    "import os\n",
    "import logging\n",
    "from io import StringIO\n",
    "import ebooklib\n",
    "from ebooklib import epub\n",
    "from bs4 import BeautifulSoup\n",
    "from pprint import pprint\n",
    "import spacy\n",
    "from spacy.lang.en import English\n",
    "from spacy.pipeline import EntityRuler\n",
    "from collections import Counter\n",
    "from sklearn.decomposition import TruncatedSVD\n",
    "from sklearn.feature_extraction.text import TfidfVectorizer\n",
    "import pandas as pd\n",
    "import numpy as np\n",
    "import nltk\n",
    "import re\n",
    "\n",
    "\n",
    "import matplotlib.pyplot as plt\n",
    "plt.rcParams[\"figure.figsize\"] = (20,10)\n",
    "\n",
    "SCRIPT_DIR = os.getcwd()"
   ]
  },
  {
   "cell_type": "code",
   "execution_count": 92,
   "metadata": {},
   "outputs": [],
   "source": [
    "def ebook2text(filename):\n",
    "    \"\"\"\n",
    "    Get all the chapter text of an EPUB file.\n",
    "    \"\"\"\n",
    "    book = epub.read_epub(filename)\n",
    "    text = StringIO()\n",
    "    for i,item in enumerate(book.get_items_of_type(ebooklib.ITEM_DOCUMENT)):\n",
    "        bs = BeautifulSoup(item.content)\n",
    "        ## skip non-chapters\n",
    "        if len(bs.text) < 3000:\n",
    "            continue\n",
    "        text.write(bs.text)\n",
    "    return text.getvalue()\n",
    "\n",
    "\n",
    "def segment_text(text: str, segment_size: int, separator: chr = ' '):\n",
    "    \"\"\"\n",
    "    Partition or segment a text considering the separator character.\n",
    "    A typical text should not be divided in the middle of a word but between words,\n",
    "    i.e., considering spaces.\n",
    "    \"\"\"\n",
    "    if not isinstance(segment_size, int) or segment_size < 1:\n",
    "        raise ValueError(\"segment_size must be a number > 1!\")\n",
    "    if separator not in text:\n",
    "        raise ValueError(\"Separator '%s' not in text!\" % separator)\n",
    "\n",
    "    i = 0\n",
    "    while i < len(text):\n",
    "        piece = text[i:i + segment_size]\n",
    "        ## partition into (before, separator, after)\n",
    "        before, _, after = piece.rpartition(separator)\n",
    "        ## increase position by segment_size but reduce by the length of the rest\n",
    "        i += segment_size - len(after)\n",
    "        ## right strip any remaining separator\n",
    "        yield before.rstrip(separator)\n",
    "        \n",
    "\n",
    "def read_file_lines(filename, lowercase=False):\n",
    "    \"\"\"\n",
    "    Read a text file line-by-line into a list.\n",
    "    Commented lines (starting with '#') are ignored.\n",
    "    \"\"\"\n",
    "    filepath = filename\n",
    "    if not os.path.isabs(filepath):\n",
    "        filepath = os.path.abspath(os.path.join(SCRIPT_DIR, filename))\n",
    "    logging.debug(\"filepath: %s\", filepath)\n",
    "    result = set()\n",
    "    for line in open(filepath):\n",
    "        line = line.strip()\n",
    "        if line.startswith('#'):\n",
    "            continue\n",
    "        if lowercase:\n",
    "            line = line.lower()\n",
    "        if line:\n",
    "            result.add(line)\n",
    "    return result\n",
    "\n",
    "\n",
    "def replace_space_underscore_fornames(text, ner_names):\n",
    "    \"\"\"\n",
    "    Because of tokenization spaces need to be replaced.\n",
    "    \"\"\"\n",
    "    for word in ner_names:\n",
    "        ## https://stackoverflow.com/questions/4893506/fastest-python-method-for-search-and-replace-on-a-large-string\n",
    "        reg = re.compile('(%s)' % word)\n",
    "        repl = word.replace(' ', '_')\n",
    "        ## TODO use stream for speed-up\n",
    "        text = reg.sub(repl, text)\n",
    "    return text\n",
    "\n",
    "\n",
    "def names_to_rulepatterns(names):\n",
    "    \"\"\"\n",
    "    Translate a list of names into Spacey NER EntityRuler patterns.\n",
    "    \"\"\"\n",
    "    patterns = []\n",
    "    for name in names:\n",
    "        name = name.strip()\n",
    "        if name:\n",
    "            patterns.append({'label': 'PERSON', 'pattern': name})\n",
    "    return patterns\n",
    "\n",
    "\n",
    "def get_person_names(text, ner_names=[], stopwords=[]):\n",
    "    \"\"\"\n",
    "    Using NLP find all PERSON named-entities in the given *text*.\n",
    "    Additional NER rules can be given by *ner_names*.\n",
    "    Names to ignore can be given by *stopwords*.\n",
    "    \"\"\"\n",
    "    ## convert to lowercase\n",
    "    stopwords_lower = [word.lower() for word in stopwords]\n",
    "    \n",
    "    ## load English tokenizer, tagger, parser, NER and word vectors\n",
    "    ## python -m spacy download en_core_web_sm\n",
    "    nlp = spacy.load(\"en_core_web_sm\")\n",
    "\n",
    "    ## additional names for NER\n",
    "    if ner_names:\n",
    "        ## spaces need to be replaced because of tokenization\n",
    "        ner_names_sub = [word.replace(' ', '_') for word in ner_names]\n",
    "        text = replace_space_underscore_fornames(text, ner_names)\n",
    "        ## extra NER rules\n",
    "        ruler = EntityRuler(nlp)\n",
    "        patterns = names_to_rulepatterns(ner_names_sub)\n",
    "        ruler.add_patterns(patterns)\n",
    "        nlp.add_pipe(ruler, before='ner')\n",
    "        \n",
    "\n",
    "    ## segment the text because spacey.nlp accepts max. 100000 bytes only\n",
    "    segment_size = 100000\n",
    "    segments = segment_text(text, segment_size)\n",
    "    \n",
    "    ## find all person names which are not in the stoplist\n",
    "    names = []\n",
    "    for i,segment in enumerate(segments):\n",
    "        logging.debug(\"NLP for book segment %d/%d...\", i+1, len(text) / segment_size)\n",
    "        doc = nlp(segment)\n",
    "        names += [ent.text for ent in doc.ents if ent.label_ == 'PERSON' and ent.text.lower() not in stopwords_lower]\n",
    "    \n",
    "    return names\n",
    "\n",
    "def get_most_common_items_inorder(items, top_n):\n",
    "    \"\"\"\n",
    "    For a list of items return the top N most frequent retaining the original item-order.\n",
    "    \"\"\"\n",
    "    ## top N most frequent items\n",
    "    most_common = [item for item,_ in Counter(items).most_common(top_n)]\n",
    "    ## list of the top N most frequent items but in the order they were seen\n",
    "    items_chronologically = []\n",
    "    for item in items:\n",
    "        if item in most_common and item not in items_chronologically:\n",
    "            items_chronologically.append(item)\n",
    "        if len(items_chronologically) >= top_n:\n",
    "            break\n",
    "    return items_chronologically\n"
   ]
  },
  {
   "cell_type": "code",
   "execution_count": 93,
   "metadata": {},
   "outputs": [
    {
     "data": {
      "text/plain": [
       "'foo Moby_Dick bar huhu_foo'"
      ]
     },
     "execution_count": 93,
     "metadata": {},
     "output_type": "execute_result"
    }
   ],
   "source": [
    "ner_names = ('Moby Dick', 'huhu foo')\n",
    "[word.replace(' ', '_') for word in ner_names]\n",
    "text = \"foo Moby Dick bar huhu foo\"\n",
    "\n",
    "for word in ner_names:\n",
    "    ## https://stackoverflow.com/questions/4893506/fastest-python-method-for-search-and-replace-on-a-large-string\n",
    "    reg = re.compile('(%s)' % word)\n",
    "    repl = word.replace(' ', '_')\n",
    "    text = reg.sub(repl, text)\n",
    "text"
   ]
  },
  {
   "cell_type": "code",
   "execution_count": 94,
   "metadata": {},
   "outputs": [
    {
     "name": "stdout",
     "output_type": "stream",
     "text": [
      "[('Moby Dick', 'PERSON'), ('New York', 'GPE')]\n"
     ]
    }
   ],
   "source": [
    "nlp = English()\n",
    "ruler = EntityRuler(nlp)\n",
    "patterns = [{\"label\": \"PERSON\", \"pattern\": \"Moby Dick\"},\n",
    "            {\"label\": \"GPE\", \"pattern\": \"New York\"}]\n",
    "ruler.add_patterns(patterns)\n",
    "nlp.add_pipe(ruler)\n",
    "\n",
    "doc = nlp('last night i saw a black dog barking at a kid. My Moby Dick is not a Captain. Herkules is great. And Araminta is my girl. New York is a location.')\n",
    "print([(ent.text, ent.label_) for ent in doc.ents])"
   ]
  },
  {
   "cell_type": "code",
   "execution_count": 95,
   "metadata": {},
   "outputs": [
    {
     "name": "stdout",
     "output_type": "stream",
     "text": [
      "[('last night', 'TIME'), ('Moby Dick', 'PERSON'), ('Araminta', 'PERSON'), ('New York', 'GPE')]\n"
     ]
    }
   ],
   "source": [
    "# Load English tokenizer, tagger, parser, NER and word vectors\n",
    "nlp = spacy.load(\"en_core_web_sm\")\n",
    "\n",
    "ruler = EntityRuler(nlp)\n",
    "patterns = [{\"label\": \"PERSON\", \"pattern\": \"Moby Dick\"},\n",
    "            {\"label\": \"GPE\", \"pattern\": \"New York\"}]\n",
    "ruler.add_patterns(patterns)\n",
    "nlp.add_pipe(ruler)\n",
    "\n",
    "doc = nlp('last night i saw a black dog barking at a kid. My Moby Dick is not a Captain. Herkules is great. And Araminta is my girl. New York is a location.')\n",
    "print([(ent.text, ent.label_) for ent in doc.ents])"
   ]
  },
  {
   "cell_type": "code",
   "execution_count": 103,
   "metadata": {},
   "outputs": [
    {
     "name": "stdout",
     "output_type": "stream",
     "text": [
      "[('last night', 'TIME'), ('Moby Dick', 'PERSON'), ('Herkules', 'PERSON'), ('Araminta', 'PERSON'), ('New York', 'GPE')]\n"
     ]
    }
   ],
   "source": [
    "# Load English tokenizer, tagger, parser, NER and word vectors\n",
    "nlp = spacy.load(\"en_core_web_sm\")\n",
    "\n",
    "ruler = EntityRuler(nlp)\n",
    "patterns = names_to_rulepatterns(\"\"\"\n",
    "Moby Dick\n",
    "Herkules\n",
    "\"\"\".splitlines())\n",
    "ruler.add_patterns(patterns)\n",
    "nlp.add_pipe(ruler, before='ner')\n",
    "\n",
    "doc = nlp('last night i saw a black dog barking at a kid. My Moby Dick is not a Captain. Herkules is great. And Araminta is my girl. New York is a location.')\n",
    "print([(ent.text, ent.label_) for ent in doc.ents])"
   ]
  },
  {
   "cell_type": "code",
   "execution_count": 97,
   "metadata": {},
   "outputs": [
    {
     "data": {
      "text/plain": [
       "[('tagger', <spacy.pipeline.pipes.Tagger at 0x7f945d0426d0>),\n",
       " ('parser', <spacy.pipeline.pipes.DependencyParser at 0x7f945e345400>),\n",
       " ('ner', <spacy.pipeline.pipes.EntityRecognizer at 0x7f945e3459a0>)]"
      ]
     },
     "execution_count": 97,
     "metadata": {},
     "output_type": "execute_result"
    }
   ],
   "source": [
    "nlp.pipeline"
   ]
  },
  {
   "cell_type": "code",
   "execution_count": 100,
   "metadata": {},
   "outputs": [
    {
     "name": "stdout",
     "output_type": "stream",
     "text": [
      "999 1000 1001 1002 1003 1004 \n"
     ]
    },
    {
     "data": {
      "text/plain": [
       "['999 1000', '1001 1002', '1003', '']"
      ]
     },
     "execution_count": 100,
     "metadata": {},
     "output_type": "execute_result"
    }
   ],
   "source": [
    "text = ''\n",
    "for i in range(999,1005):\n",
    "    text += \"%d \" % i\n",
    "\n",
    "print(text)\n",
    "list(segment_text(text.strip(), 10))"
   ]
  },
  {
   "cell_type": "code",
   "execution_count": 99,
   "metadata": {},
   "outputs": [
    {
     "data": {
      "text/plain": [
       "['999 1', ' 1001 1', '2 1003 1', '']"
      ]
     },
     "execution_count": 99,
     "metadata": {},
     "output_type": "execute_result"
    }
   ],
   "source": [
    "list(segment_text(text, 10, '00'))"
   ]
  },
  {
   "cell_type": "code",
   "execution_count": 197,
   "metadata": {},
   "outputs": [
    {
     "data": {
      "text/plain": [
       "{'aye',\n",
       " 'cook',\n",
       " 'living',\n",
       " 'master',\n",
       " 'mr.',\n",
       " 'nay',\n",
       " 'sir',\n",
       " 'sperm',\n",
       " 'sperm whale',\n",
       " 'thou',\n",
       " 'ye'}"
      ]
     },
     "execution_count": 197,
     "metadata": {},
     "output_type": "execute_result"
    }
   ],
   "source": [
    "stopwords = read_file_lines('../stopwords.txt', lowercase=True)"
   ]
  },
  {
   "cell_type": "code",
   "execution_count": 284,
   "metadata": {
    "scrolled": false
   },
   "outputs": [
    {
     "data": {
      "image/png": "[encoded data removed]",
      "text/plain": [
       "<Figure size 1440x720 with 1 Axes>"
      ]
     },
     "metadata": {
      "needs_background": "light"
     },
     "output_type": "display_data"
    }
   ],
   "source": [
    "filename1 = \"moby-dick.epub\"\n",
    "text1 = ebook2text(filename1)\n",
    "ner_names1=('Moby Dick','Ahab')\n",
    "text1 = replace_space_underscore_fornames(text1, ner_names1)\n",
    "names1 = get_person_names(text1, ner_names=ner_names1, stopwords=stopwords)\n",
    "mcn1 = get_most_common_items_inorder(names1, 20)\n",
    "nltk.draw.dispersion_plot(nltk.word_tokenize(text1), mcn1, title=\"Moby Dick\")"
   ]
  },
  {
   "cell_type": "code",
   "execution_count": 283,
   "metadata": {
    "scrolled": false
   },
   "outputs": [
    {
     "data": {
      "image/png": "[encoded data removed]",
      "text/plain": [
       "<Figure size 1440x720 with 1 Axes>"
      ]
     },
     "metadata": {
      "needs_background": "light"
     },
     "output_type": "display_data"
    }
   ],
   "source": [
    "filename2 = \"../HamiltonDreamingVoid/1 - Dreaming Void, The - Peter F. Hamilton.epub\"\n",
    "ner_names2 = read_file_lines('../HamiltonDreamingVoid/characters.txt')\n",
    "text2 = ebook2text(filename)\n",
    "text2 = replace_space_underscore_fornames(text2, ner_names2)\n",
    "names2 = get_person_names(text2, ner_names=ner_names2, stopwords=stopwords)\n",
    "mcn2 = get_most_common_items_inorder(names2, 25)\n",
    "nltk.draw.dispersion_plot(nltk.word_tokenize(text2), mcn2, title=\"The Dreaming Void\")"
   ]
  }
 ],
 "metadata": {
  "kernelspec": {
   "display_name": "Python 3",
   "language": "python",
   "name": "python3"
  },
  "language_info": {
   "codemirror_mode": {
    "name": "ipython",
    "version": 3
   },
   "file_extension": ".py",
   "mimetype": "text/x-python",
   "name": "python",
   "nbconvert_exporter": "python",
   "pygments_lexer": "ipython3",
   "version": "3.8.5"
  }
 },
 "nbformat": 4,
 "nbformat_minor": 4
}
